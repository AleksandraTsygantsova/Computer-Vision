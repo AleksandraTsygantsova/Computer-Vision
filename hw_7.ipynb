{
  "nbformat": 4,
  "nbformat_minor": 0,
  "metadata": {
    "colab": {
      "name": "hw_7",
      "provenance": [],
      "collapsed_sections": [],
      "machine_shape": "hm"
    },
    "language_info": {
      "codemirror_mode": {
        "name": "ipython",
        "version": 3
      },
      "file_extension": ".py",
      "mimetype": "text/x-python",
      "name": "python",
      "nbconvert_exporter": "python",
      "pygments_lexer": "ipython3",
      "version": "3.7.1"
    },
    "kernelspec": {
      "name": "python3",
      "display_name": "Python 3"
    },
    "accelerator": "GPU",
    "gpuClass": "standard"
  },
  "cells": [
    {
      "cell_type": "markdown",
      "metadata": {
        "id": "y7c-vhTto-1_"
      },
      "source": [
        "# Обработка видео\n",
        "Классификация действий по видео\n"
      ]
    },
    {
      "cell_type": "code",
      "metadata": {
        "id": "iv4yU3Gb4MlY"
      },
      "source": [
        "import os\n",
        "import glob\n",
        "import random\n",
        "import numpy as np\n",
        "import matplotlib.pyplot as plt\n",
        "\n",
        "import tensorflow as tf"
      ],
      "execution_count": 1,
      "outputs": []
    },
    {
      "cell_type": "code",
      "metadata": {
        "id": "rEbPbpjIDV57",
        "outputId": "9e7ef869-4746-4717-ae80-82442729f21c",
        "colab": {
          "base_uri": "https://localhost:8080/"
        }
      },
      "source": [
        "if 1:\n",
        "    !pip install scikit-video==1.1.11\n",
        "import skvideo.io"
      ],
      "execution_count": 2,
      "outputs": [
        {
          "output_type": "stream",
          "name": "stdout",
          "text": [
            "Looking in indexes: https://pypi.org/simple, https://us-python.pkg.dev/colab-wheels/public/simple/\n",
            "Collecting scikit-video==1.1.11\n",
            "  Downloading scikit_video-1.1.11-py2.py3-none-any.whl (2.3 MB)\n",
            "\u001b[K     |████████████████████████████████| 2.3 MB 9.0 MB/s \n",
            "\u001b[?25hRequirement already satisfied: pillow in /usr/local/lib/python3.7/dist-packages (from scikit-video==1.1.11) (7.1.2)\n",
            "Requirement already satisfied: numpy in /usr/local/lib/python3.7/dist-packages (from scikit-video==1.1.11) (1.21.6)\n",
            "Requirement already satisfied: scipy in /usr/local/lib/python3.7/dist-packages (from scikit-video==1.1.11) (1.7.3)\n",
            "Installing collected packages: scikit-video\n",
            "Successfully installed scikit-video-1.1.11\n"
          ]
        }
      ]
    },
    {
      "cell_type": "markdown",
      "metadata": {
        "id": "gshnlHKETjEI"
      },
      "source": [
        "## Загрузка и распаковка датасета KTH"
      ]
    },
    {
      "cell_type": "code",
      "source": [
        "# Подключаемся к диску\n",
        "from google.colab import drive\n",
        "drive.mount('/content/drive')"
      ],
      "metadata": {
        "colab": {
          "base_uri": "https://localhost:8080/"
        },
        "id": "vEzOPknbog6K",
        "outputId": "dff5d6a7-321b-4d68-85b0-62faf1c50897"
      },
      "execution_count": 3,
      "outputs": [
        {
          "output_type": "stream",
          "name": "stdout",
          "text": [
            "Mounted at /content/drive\n"
          ]
        }
      ]
    },
    {
      "cell_type": "code",
      "source": [
        "# Разархивирование файлов\n",
        "if 1:\n",
        "    !unzip '/content/drive/MyDrive/KHT/walking.zip' -d '/content/drive/MyDrive/KHT/unpack'\n",
        "    !unzip '/content/drive/MyDrive/KHT/jogging.zip' -d '/content/drive/MyDrive/KHT/unpack'"
      ],
      "metadata": {
        "colab": {
          "base_uri": "https://localhost:8080/"
        },
        "id": "6lLzaPLrnyRi",
        "outputId": "faf24874-6455-4cd7-ee55-4d9fd69bf5c1"
      },
      "execution_count": 13,
      "outputs": [
        {
          "output_type": "stream",
          "name": "stdout",
          "text": [
            "Archive:  /content/drive/MyDrive/KHT/walking.zip\n",
            "  inflating: /content/drive/MyDrive/KHT/unpack/person01_walking_d1_uncomp.avi  \n",
            "  inflating: /content/drive/MyDrive/KHT/unpack/person01_walking_d2_uncomp.avi  \n",
            "  inflating: /content/drive/MyDrive/KHT/unpack/person01_walking_d3_uncomp.avi  \n",
            "  inflating: /content/drive/MyDrive/KHT/unpack/person01_walking_d4_uncomp.avi  \n",
            "  inflating: /content/drive/MyDrive/KHT/unpack/person02_walking_d1_uncomp.avi  \n",
            "  inflating: /content/drive/MyDrive/KHT/unpack/person02_walking_d2_uncomp.avi  \n",
            "  inflating: /content/drive/MyDrive/KHT/unpack/person02_walking_d3_uncomp.avi  \n",
            "  inflating: /content/drive/MyDrive/KHT/unpack/person02_walking_d4_uncomp.avi  \n",
            "  inflating: /content/drive/MyDrive/KHT/unpack/person03_walking_d1_uncomp.avi  \n",
            "  inflating: /content/drive/MyDrive/KHT/unpack/person03_walking_d2_uncomp.avi  \n",
            "  inflating: /content/drive/MyDrive/KHT/unpack/person03_walking_d3_uncomp.avi  \n",
            "  inflating: /content/drive/MyDrive/KHT/unpack/person03_walking_d4_uncomp.avi  \n",
            "  inflating: /content/drive/MyDrive/KHT/unpack/person04_walking_d1_uncomp.avi  \n",
            "  inflating: /content/drive/MyDrive/KHT/unpack/person04_walking_d2_uncomp.avi  \n",
            "  inflating: /content/drive/MyDrive/KHT/unpack/person04_walking_d3_uncomp.avi  \n",
            "  inflating: /content/drive/MyDrive/KHT/unpack/person04_walking_d4_uncomp.avi  \n",
            "  inflating: /content/drive/MyDrive/KHT/unpack/person05_walking_d1_uncomp.avi  \n",
            "  inflating: /content/drive/MyDrive/KHT/unpack/person05_walking_d2_uncomp.avi  \n",
            "  inflating: /content/drive/MyDrive/KHT/unpack/person05_walking_d3_uncomp.avi  \n",
            "  inflating: /content/drive/MyDrive/KHT/unpack/person05_walking_d4_uncomp.avi  \n",
            "  inflating: /content/drive/MyDrive/KHT/unpack/person06_walking_d1_uncomp.avi  \n",
            "  inflating: /content/drive/MyDrive/KHT/unpack/person06_walking_d2_uncomp.avi  \n",
            "  inflating: /content/drive/MyDrive/KHT/unpack/person06_walking_d3_uncomp.avi  \n",
            "  inflating: /content/drive/MyDrive/KHT/unpack/person06_walking_d4_uncomp.avi  \n",
            "  inflating: /content/drive/MyDrive/KHT/unpack/person07_walking_d1_uncomp.avi  \n",
            "  inflating: /content/drive/MyDrive/KHT/unpack/person07_walking_d2_uncomp.avi  \n",
            "  inflating: /content/drive/MyDrive/KHT/unpack/person07_walking_d3_uncomp.avi  \n",
            "  inflating: /content/drive/MyDrive/KHT/unpack/person07_walking_d4_uncomp.avi  \n",
            "  inflating: /content/drive/MyDrive/KHT/unpack/person08_walking_d1_uncomp.avi  \n",
            "  inflating: /content/drive/MyDrive/KHT/unpack/person08_walking_d2_uncomp.avi  \n",
            "  inflating: /content/drive/MyDrive/KHT/unpack/person08_walking_d3_uncomp.avi  \n",
            "  inflating: /content/drive/MyDrive/KHT/unpack/person08_walking_d4_uncomp.avi  \n",
            "  inflating: /content/drive/MyDrive/KHT/unpack/person09_walking_d1_uncomp.avi  \n",
            "  inflating: /content/drive/MyDrive/KHT/unpack/person09_walking_d2_uncomp.avi  \n",
            "  inflating: /content/drive/MyDrive/KHT/unpack/person09_walking_d3_uncomp.avi  \n",
            "  inflating: /content/drive/MyDrive/KHT/unpack/person09_walking_d4_uncomp.avi  \n",
            "  inflating: /content/drive/MyDrive/KHT/unpack/person10_walking_d1_uncomp.avi  \n",
            "  inflating: /content/drive/MyDrive/KHT/unpack/person10_walking_d2_uncomp.avi  \n",
            "  inflating: /content/drive/MyDrive/KHT/unpack/person10_walking_d3_uncomp.avi  \n",
            "  inflating: /content/drive/MyDrive/KHT/unpack/person10_walking_d4_uncomp.avi  \n",
            "  inflating: /content/drive/MyDrive/KHT/unpack/person11_walking_d1_uncomp.avi  \n",
            "  inflating: /content/drive/MyDrive/KHT/unpack/person11_walking_d2_uncomp.avi  \n",
            "  inflating: /content/drive/MyDrive/KHT/unpack/person11_walking_d3_uncomp.avi  \n",
            "  inflating: /content/drive/MyDrive/KHT/unpack/person11_walking_d4_uncomp.avi  \n",
            "  inflating: /content/drive/MyDrive/KHT/unpack/person12_walking_d1_uncomp.avi  \n",
            "  inflating: /content/drive/MyDrive/KHT/unpack/person12_walking_d2_uncomp.avi  \n",
            "  inflating: /content/drive/MyDrive/KHT/unpack/person12_walking_d3_uncomp.avi  \n",
            "  inflating: /content/drive/MyDrive/KHT/unpack/person12_walking_d4_uncomp.avi  \n",
            "  inflating: /content/drive/MyDrive/KHT/unpack/person13_walking_d1_uncomp.avi  \n",
            "  inflating: /content/drive/MyDrive/KHT/unpack/person13_walking_d2_uncomp.avi  \n",
            "  inflating: /content/drive/MyDrive/KHT/unpack/person13_walking_d3_uncomp.avi  \n",
            "  inflating: /content/drive/MyDrive/KHT/unpack/person13_walking_d4_uncomp.avi  \n",
            "  inflating: /content/drive/MyDrive/KHT/unpack/person14_walking_d1_uncomp.avi  \n",
            "  inflating: /content/drive/MyDrive/KHT/unpack/person14_walking_d2_uncomp.avi  \n",
            "  inflating: /content/drive/MyDrive/KHT/unpack/person14_walking_d3_uncomp.avi  \n",
            "  inflating: /content/drive/MyDrive/KHT/unpack/person14_walking_d4_uncomp.avi  \n",
            "  inflating: /content/drive/MyDrive/KHT/unpack/person15_walking_d1_uncomp.avi  \n",
            "  inflating: /content/drive/MyDrive/KHT/unpack/person15_walking_d2_uncomp.avi  \n",
            "  inflating: /content/drive/MyDrive/KHT/unpack/person15_walking_d3_uncomp.avi  \n",
            "  inflating: /content/drive/MyDrive/KHT/unpack/person15_walking_d4_uncomp.avi  \n",
            "  inflating: /content/drive/MyDrive/KHT/unpack/person16_walking_d1_uncomp.avi  \n",
            "  inflating: /content/drive/MyDrive/KHT/unpack/person16_walking_d2_uncomp.avi  \n",
            "  inflating: /content/drive/MyDrive/KHT/unpack/person16_walking_d3_uncomp.avi  \n",
            "  inflating: /content/drive/MyDrive/KHT/unpack/person16_walking_d4_uncomp.avi  \n",
            "  inflating: /content/drive/MyDrive/KHT/unpack/person17_walking_d1_uncomp.avi  \n",
            "  inflating: /content/drive/MyDrive/KHT/unpack/person17_walking_d2_uncomp.avi  \n",
            "  inflating: /content/drive/MyDrive/KHT/unpack/person17_walking_d3_uncomp.avi  \n",
            "  inflating: /content/drive/MyDrive/KHT/unpack/person17_walking_d4_uncomp.avi  \n",
            "  inflating: /content/drive/MyDrive/KHT/unpack/person18_walking_d1_uncomp.avi  \n",
            "  inflating: /content/drive/MyDrive/KHT/unpack/person18_walking_d2_uncomp.avi  \n",
            "  inflating: /content/drive/MyDrive/KHT/unpack/person18_walking_d3_uncomp.avi  \n",
            "  inflating: /content/drive/MyDrive/KHT/unpack/person18_walking_d4_uncomp.avi  \n",
            "  inflating: /content/drive/MyDrive/KHT/unpack/person19_walking_d1_uncomp.avi  \n",
            "  inflating: /content/drive/MyDrive/KHT/unpack/person19_walking_d2_uncomp.avi  \n",
            "  inflating: /content/drive/MyDrive/KHT/unpack/person19_walking_d3_uncomp.avi  \n",
            "  inflating: /content/drive/MyDrive/KHT/unpack/person19_walking_d4_uncomp.avi  \n",
            "  inflating: /content/drive/MyDrive/KHT/unpack/person20_walking_d1_uncomp.avi  \n",
            "  inflating: /content/drive/MyDrive/KHT/unpack/person20_walking_d2_uncomp.avi  \n",
            "  inflating: /content/drive/MyDrive/KHT/unpack/person20_walking_d3_uncomp.avi  \n",
            "  inflating: /content/drive/MyDrive/KHT/unpack/person20_walking_d4_uncomp.avi  \n",
            "  inflating: /content/drive/MyDrive/KHT/unpack/person21_walking_d1_uncomp.avi  \n",
            "  inflating: /content/drive/MyDrive/KHT/unpack/person21_walking_d2_uncomp.avi  \n",
            "  inflating: /content/drive/MyDrive/KHT/unpack/person21_walking_d3_uncomp.avi  \n",
            "  inflating: /content/drive/MyDrive/KHT/unpack/person21_walking_d4_uncomp.avi  \n",
            "  inflating: /content/drive/MyDrive/KHT/unpack/person22_walking_d1_uncomp.avi  \n",
            "  inflating: /content/drive/MyDrive/KHT/unpack/person22_walking_d2_uncomp.avi  \n",
            "  inflating: /content/drive/MyDrive/KHT/unpack/person22_walking_d3_uncomp.avi  \n",
            "  inflating: /content/drive/MyDrive/KHT/unpack/person22_walking_d4_uncomp.avi  \n",
            "  inflating: /content/drive/MyDrive/KHT/unpack/person23_walking_d1_uncomp.avi  \n",
            "  inflating: /content/drive/MyDrive/KHT/unpack/person23_walking_d2_uncomp.avi  \n",
            "  inflating: /content/drive/MyDrive/KHT/unpack/person23_walking_d3_uncomp.avi  \n",
            "  inflating: /content/drive/MyDrive/KHT/unpack/person23_walking_d4_uncomp.avi  \n",
            "  inflating: /content/drive/MyDrive/KHT/unpack/person24_walking_d1_uncomp.avi  \n",
            "  inflating: /content/drive/MyDrive/KHT/unpack/person24_walking_d2_uncomp.avi  \n",
            "  inflating: /content/drive/MyDrive/KHT/unpack/person24_walking_d3_uncomp.avi  \n",
            "  inflating: /content/drive/MyDrive/KHT/unpack/person24_walking_d4_uncomp.avi  \n",
            "  inflating: /content/drive/MyDrive/KHT/unpack/person25_walking_d1_uncomp.avi  \n",
            "  inflating: /content/drive/MyDrive/KHT/unpack/person25_walking_d2_uncomp.avi  \n",
            "  inflating: /content/drive/MyDrive/KHT/unpack/person25_walking_d3_uncomp.avi  \n",
            "  inflating: /content/drive/MyDrive/KHT/unpack/person25_walking_d4_uncomp.avi  \n",
            "Archive:  /content/drive/MyDrive/KHT/jogging.zip\n",
            "  inflating: /content/drive/MyDrive/KHT/unpack/person01_jogging_d1_uncomp.avi  \n",
            "  inflating: /content/drive/MyDrive/KHT/unpack/person01_jogging_d2_uncomp.avi  \n",
            "  inflating: /content/drive/MyDrive/KHT/unpack/person01_jogging_d3_uncomp.avi  \n",
            "  inflating: /content/drive/MyDrive/KHT/unpack/person01_jogging_d4_uncomp.avi  \n",
            "  inflating: /content/drive/MyDrive/KHT/unpack/person02_jogging_d1_uncomp.avi  \n",
            "  inflating: /content/drive/MyDrive/KHT/unpack/person02_jogging_d2_uncomp.avi  \n",
            "  inflating: /content/drive/MyDrive/KHT/unpack/person02_jogging_d3_uncomp.avi  \n",
            "  inflating: /content/drive/MyDrive/KHT/unpack/person02_jogging_d4_uncomp.avi  \n",
            "  inflating: /content/drive/MyDrive/KHT/unpack/person03_jogging_d1_uncomp.avi  \n",
            "  inflating: /content/drive/MyDrive/KHT/unpack/person03_jogging_d2_uncomp.avi  \n",
            "  inflating: /content/drive/MyDrive/KHT/unpack/person03_jogging_d3_uncomp.avi  \n",
            "  inflating: /content/drive/MyDrive/KHT/unpack/person03_jogging_d4_uncomp.avi  \n",
            "  inflating: /content/drive/MyDrive/KHT/unpack/person04_jogging_d1_uncomp.avi  \n",
            "  inflating: /content/drive/MyDrive/KHT/unpack/person04_jogging_d2_uncomp.avi  \n",
            "  inflating: /content/drive/MyDrive/KHT/unpack/person04_jogging_d3_uncomp.avi  \n",
            "  inflating: /content/drive/MyDrive/KHT/unpack/person04_jogging_d4_uncomp.avi  \n",
            "  inflating: /content/drive/MyDrive/KHT/unpack/person05_jogging_d1_uncomp.avi  \n",
            "  inflating: /content/drive/MyDrive/KHT/unpack/person05_jogging_d2_uncomp.avi  \n",
            "  inflating: /content/drive/MyDrive/KHT/unpack/person05_jogging_d3_uncomp.avi  \n",
            "  inflating: /content/drive/MyDrive/KHT/unpack/person05_jogging_d4_uncomp.avi  \n",
            "  inflating: /content/drive/MyDrive/KHT/unpack/person06_jogging_d1_uncomp.avi  \n",
            "  inflating: /content/drive/MyDrive/KHT/unpack/person06_jogging_d2_uncomp.avi  \n",
            "  inflating: /content/drive/MyDrive/KHT/unpack/person06_jogging_d3_uncomp.avi  \n",
            "  inflating: /content/drive/MyDrive/KHT/unpack/person06_jogging_d4_uncomp.avi  \n",
            "  inflating: /content/drive/MyDrive/KHT/unpack/person07_jogging_d1_uncomp.avi  \n",
            "  inflating: /content/drive/MyDrive/KHT/unpack/person07_jogging_d2_uncomp.avi  \n",
            "  inflating: /content/drive/MyDrive/KHT/unpack/person07_jogging_d3_uncomp.avi  \n",
            "  inflating: /content/drive/MyDrive/KHT/unpack/person07_jogging_d4_uncomp.avi  \n",
            "  inflating: /content/drive/MyDrive/KHT/unpack/person08_jogging_d1_uncomp.avi  \n",
            "  inflating: /content/drive/MyDrive/KHT/unpack/person08_jogging_d2_uncomp.avi  \n",
            "  inflating: /content/drive/MyDrive/KHT/unpack/person08_jogging_d3_uncomp.avi  \n",
            "  inflating: /content/drive/MyDrive/KHT/unpack/person08_jogging_d4_uncomp.avi  \n",
            "  inflating: /content/drive/MyDrive/KHT/unpack/person09_jogging_d1_uncomp.avi  \n",
            "  inflating: /content/drive/MyDrive/KHT/unpack/person09_jogging_d2_uncomp.avi  \n",
            "  inflating: /content/drive/MyDrive/KHT/unpack/person09_jogging_d3_uncomp.avi  \n",
            "  inflating: /content/drive/MyDrive/KHT/unpack/person09_jogging_d4_uncomp.avi  \n",
            "  inflating: /content/drive/MyDrive/KHT/unpack/person10_jogging_d1_uncomp.avi  \n",
            "  inflating: /content/drive/MyDrive/KHT/unpack/person10_jogging_d2_uncomp.avi  \n",
            "  inflating: /content/drive/MyDrive/KHT/unpack/person10_jogging_d3_uncomp.avi  \n",
            "  inflating: /content/drive/MyDrive/KHT/unpack/person10_jogging_d4_uncomp.avi  \n",
            "  inflating: /content/drive/MyDrive/KHT/unpack/person11_jogging_d1_uncomp.avi  \n",
            "  inflating: /content/drive/MyDrive/KHT/unpack/person11_jogging_d2_uncomp.avi  \n",
            "  inflating: /content/drive/MyDrive/KHT/unpack/person11_jogging_d3_uncomp.avi  \n",
            "  inflating: /content/drive/MyDrive/KHT/unpack/person11_jogging_d4_uncomp.avi  \n",
            "  inflating: /content/drive/MyDrive/KHT/unpack/person12_jogging_d1_uncomp.avi  \n",
            "  inflating: /content/drive/MyDrive/KHT/unpack/person12_jogging_d2_uncomp.avi  \n",
            "  inflating: /content/drive/MyDrive/KHT/unpack/person12_jogging_d3_uncomp.avi  \n",
            "  inflating: /content/drive/MyDrive/KHT/unpack/person12_jogging_d4_uncomp.avi  \n",
            "  inflating: /content/drive/MyDrive/KHT/unpack/person13_jogging_d1_uncomp.avi  \n",
            "  inflating: /content/drive/MyDrive/KHT/unpack/person13_jogging_d2_uncomp.avi  \n",
            "  inflating: /content/drive/MyDrive/KHT/unpack/person13_jogging_d3_uncomp.avi  \n",
            "  inflating: /content/drive/MyDrive/KHT/unpack/person13_jogging_d4_uncomp.avi  \n",
            "  inflating: /content/drive/MyDrive/KHT/unpack/person14_jogging_d1_uncomp.avi  \n",
            "  inflating: /content/drive/MyDrive/KHT/unpack/person14_jogging_d2_uncomp.avi  \n",
            "  inflating: /content/drive/MyDrive/KHT/unpack/person14_jogging_d3_uncomp.avi  \n",
            "  inflating: /content/drive/MyDrive/KHT/unpack/person14_jogging_d4_uncomp.avi  \n",
            "  inflating: /content/drive/MyDrive/KHT/unpack/person15_jogging_d1_uncomp.avi  \n",
            "  inflating: /content/drive/MyDrive/KHT/unpack/person15_jogging_d2_uncomp.avi  \n",
            "  inflating: /content/drive/MyDrive/KHT/unpack/person15_jogging_d3_uncomp.avi  \n",
            "  inflating: /content/drive/MyDrive/KHT/unpack/person15_jogging_d4_uncomp.avi  \n",
            "  inflating: /content/drive/MyDrive/KHT/unpack/person16_jogging_d1_uncomp.avi  \n",
            "  inflating: /content/drive/MyDrive/KHT/unpack/person16_jogging_d2_uncomp.avi  \n",
            "  inflating: /content/drive/MyDrive/KHT/unpack/person16_jogging_d3_uncomp.avi  \n",
            "  inflating: /content/drive/MyDrive/KHT/unpack/person16_jogging_d4_uncomp.avi  \n",
            "  inflating: /content/drive/MyDrive/KHT/unpack/person17_jogging_d1_uncomp.avi  \n",
            "  inflating: /content/drive/MyDrive/KHT/unpack/person17_jogging_d2_uncomp.avi  \n",
            "  inflating: /content/drive/MyDrive/KHT/unpack/person17_jogging_d3_uncomp.avi  \n",
            "  inflating: /content/drive/MyDrive/KHT/unpack/person17_jogging_d4_uncomp.avi  \n",
            "  inflating: /content/drive/MyDrive/KHT/unpack/person18_jogging_d1_uncomp.avi  \n",
            "  inflating: /content/drive/MyDrive/KHT/unpack/person18_jogging_d2_uncomp.avi  \n",
            "  inflating: /content/drive/MyDrive/KHT/unpack/person18_jogging_d3_uncomp.avi  \n",
            "  inflating: /content/drive/MyDrive/KHT/unpack/person18_jogging_d4_uncomp.avi  \n",
            "  inflating: /content/drive/MyDrive/KHT/unpack/person19_jogging_d1_uncomp.avi  \n",
            "  inflating: /content/drive/MyDrive/KHT/unpack/person19_jogging_d2_uncomp.avi  \n",
            "  inflating: /content/drive/MyDrive/KHT/unpack/person19_jogging_d3_uncomp.avi  \n",
            "  inflating: /content/drive/MyDrive/KHT/unpack/person19_jogging_d4_uncomp.avi  \n",
            "  inflating: /content/drive/MyDrive/KHT/unpack/person20_jogging_d1_uncomp.avi  \n",
            "  inflating: /content/drive/MyDrive/KHT/unpack/person20_jogging_d2_uncomp.avi  \n",
            "  inflating: /content/drive/MyDrive/KHT/unpack/person20_jogging_d3_uncomp.avi  \n",
            "  inflating: /content/drive/MyDrive/KHT/unpack/person20_jogging_d4_uncomp.avi  \n",
            "  inflating: /content/drive/MyDrive/KHT/unpack/person21_jogging_d1_uncomp.avi  \n",
            "  inflating: /content/drive/MyDrive/KHT/unpack/person21_jogging_d2_uncomp.avi  \n",
            "  inflating: /content/drive/MyDrive/KHT/unpack/person21_jogging_d3_uncomp.avi  \n",
            "  inflating: /content/drive/MyDrive/KHT/unpack/person21_jogging_d4_uncomp.avi  \n",
            "  inflating: /content/drive/MyDrive/KHT/unpack/person22_jogging_d1_uncomp.avi  \n",
            "  inflating: /content/drive/MyDrive/KHT/unpack/person22_jogging_d2_uncomp.avi  \n",
            "  inflating: /content/drive/MyDrive/KHT/unpack/person22_jogging_d3_uncomp.avi  \n",
            "  inflating: /content/drive/MyDrive/KHT/unpack/person22_jogging_d4_uncomp.avi  \n",
            "  inflating: /content/drive/MyDrive/KHT/unpack/person23_jogging_d1_uncomp.avi  \n",
            "  inflating: /content/drive/MyDrive/KHT/unpack/person23_jogging_d2_uncomp.avi  \n",
            "  inflating: /content/drive/MyDrive/KHT/unpack/person23_jogging_d3_uncomp.avi  \n",
            "  inflating: /content/drive/MyDrive/KHT/unpack/person23_jogging_d4_uncomp.avi  \n",
            "  inflating: /content/drive/MyDrive/KHT/unpack/person24_jogging_d1_uncomp.avi  \n",
            "  inflating: /content/drive/MyDrive/KHT/unpack/person24_jogging_d2_uncomp.avi  \n",
            "  inflating: /content/drive/MyDrive/KHT/unpack/person24_jogging_d3_uncomp.avi  \n",
            "  inflating: /content/drive/MyDrive/KHT/unpack/person24_jogging_d4_uncomp.avi  \n",
            "  inflating: /content/drive/MyDrive/KHT/unpack/person25_jogging_d1_uncomp.avi  \n",
            "  inflating: /content/drive/MyDrive/KHT/unpack/person25_jogging_d2_uncomp.avi  \n",
            "  inflating: /content/drive/MyDrive/KHT/unpack/person25_jogging_d3_uncomp.avi  \n",
            "  inflating: /content/drive/MyDrive/KHT/unpack/person25_jogging_d4_uncomp.avi  \n"
          ]
        }
      ]
    },
    {
      "cell_type": "markdown",
      "metadata": {
        "id": "z9xxQH9LTsll"
      },
      "source": [
        "## Подготовка датасета для классификации"
      ]
    },
    {
      "cell_type": "code",
      "source": [
        "data_root = '/content/drive/MyDrive/KHT/unpack/'"
      ],
      "metadata": {
        "id": "4GI8AXBI44mZ"
      },
      "execution_count": 21,
      "outputs": []
    },
    {
      "cell_type": "code",
      "source": [
        "from os import walk\n",
        "filenames = next(walk('/content/drive/MyDrive/KHT/unpack/'), (None, None, []))[2]  # [] if no file\n",
        "filenames[:3]"
      ],
      "metadata": {
        "colab": {
          "base_uri": "https://localhost:8080/"
        },
        "id": "0CFk0GIP4PN_",
        "outputId": "67f32de9-1612-415b-a2df-f76a99c6428f"
      },
      "execution_count": 18,
      "outputs": [
        {
          "output_type": "execute_result",
          "data": {
            "text/plain": [
              "['person01_walking_d1_uncomp.avi',\n",
              " 'person01_walking_d2_uncomp.avi',\n",
              " 'person01_walking_d3_uncomp.avi']"
            ]
          },
          "metadata": {},
          "execution_count": 18
        }
      ]
    },
    {
      "cell_type": "code",
      "source": [
        "data_root+filenames[0]"
      ],
      "metadata": {
        "colab": {
          "base_uri": "https://localhost:8080/",
          "height": 35
        },
        "id": "t4OSPNmD4V0y",
        "outputId": "2e2771a6-0524-43e6-ee79-740b2db0f858"
      },
      "execution_count": 23,
      "outputs": [
        {
          "output_type": "execute_result",
          "data": {
            "text/plain": [
              "'/content/drive/MyDrive/KHT/unpack/person01_walking_d1_uncomp.avi'"
            ],
            "application/vnd.google.colaboratory.intrinsic+json": {
              "type": "string"
            }
          },
          "metadata": {},
          "execution_count": 23
        }
      ]
    },
    {
      "cell_type": "code",
      "metadata": {
        "id": "xXx10w4T7JcT"
      },
      "source": [
        "classes = ['walking', 'jogging']\n",
        "\n",
        "dataset = []\n",
        "\n",
        "for file in filenames:\n",
        "    if 'walking' in file:\n",
        "        cls_idx = classes.index('walking')\n",
        "        fpath = data_root+file\n",
        "        dataset.append((fpath, cls_idx))\n",
        "    elif 'jogging' in file:\n",
        "        cls_idx = classes.index('jogging')\n",
        "        fpath = data_root+file\n",
        "        dataset.append((fpath, cls_idx))\n",
        "    else:\n",
        "      pass"
      ],
      "execution_count": 24,
      "outputs": []
    },
    {
      "cell_type": "code",
      "metadata": {
        "id": "-hs_HcrC5nJG",
        "outputId": "4fddd569-9271-4dc5-f523-45fcbc35c272",
        "colab": {
          "base_uri": "https://localhost:8080/"
        }
      },
      "source": [
        "dataset[:5]"
      ],
      "execution_count": 25,
      "outputs": [
        {
          "output_type": "execute_result",
          "data": {
            "text/plain": [
              "[('/content/drive/MyDrive/KHT/unpack/person01_walking_d1_uncomp.avi', 0),\n",
              " ('/content/drive/MyDrive/KHT/unpack/person01_walking_d2_uncomp.avi', 0),\n",
              " ('/content/drive/MyDrive/KHT/unpack/person01_walking_d3_uncomp.avi', 0),\n",
              " ('/content/drive/MyDrive/KHT/unpack/person01_walking_d4_uncomp.avi', 0),\n",
              " ('/content/drive/MyDrive/KHT/unpack/person02_walking_d1_uncomp.avi', 0)]"
            ]
          },
          "metadata": {},
          "execution_count": 25
        }
      ]
    },
    {
      "cell_type": "code",
      "metadata": {
        "id": "uEMpKM7F3oqv",
        "outputId": "668c31c9-ddf3-4b50-b56c-8eca1dd5d206",
        "colab": {
          "base_uri": "https://localhost:8080/"
        }
      },
      "source": [
        "TRAIN_LEN = 180\n",
        "TEST_LEN = 30\n",
        "random.shuffle(dataset)\n",
        "train = dataset[:TRAIN_LEN]\n",
        "test = dataset[TRAIN_LEN: (TRAIN_LEN + TEST_LEN)]\n",
        "\n",
        "print('Train samples (subset):', len(train))\n",
        "print('Test samples (subset):', len(test))"
      ],
      "execution_count": 26,
      "outputs": [
        {
          "output_type": "stream",
          "name": "stdout",
          "text": [
            "Train samples (subset): 180\n",
            "Test samples (subset): 20\n"
          ]
        }
      ]
    },
    {
      "cell_type": "code",
      "metadata": {
        "id": "a6SgHZdeHEOx",
        "outputId": "6f3ce27c-88bd-4da8-c52a-642f283287f3",
        "colab": {
          "base_uri": "https://localhost:8080/"
        }
      },
      "source": [
        "train[:5]"
      ],
      "execution_count": 27,
      "outputs": [
        {
          "output_type": "execute_result",
          "data": {
            "text/plain": [
              "[('/content/drive/MyDrive/KHT/unpack/person11_jogging_d4_uncomp.avi', 1),\n",
              " ('/content/drive/MyDrive/KHT/unpack/person20_jogging_d2_uncomp.avi', 1),\n",
              " ('/content/drive/MyDrive/KHT/unpack/person16_walking_d2_uncomp.avi', 0),\n",
              " ('/content/drive/MyDrive/KHT/unpack/person07_jogging_d4_uncomp.avi', 1),\n",
              " ('/content/drive/MyDrive/KHT/unpack/person15_walking_d2_uncomp.avi', 0)]"
            ]
          },
          "metadata": {},
          "execution_count": 27
        }
      ]
    },
    {
      "cell_type": "code",
      "metadata": {
        "id": "3ZReiGq7U6Je"
      },
      "source": [
        "train_shapes = []\n",
        "for i in range(len(train)):\n",
        "    videodata = skvideo.io.vread(train[i][0])\n",
        "    train_shapes.append(videodata.shape)"
      ],
      "execution_count": 28,
      "outputs": []
    },
    {
      "cell_type": "code",
      "metadata": {
        "id": "C4PBpnN7U6Mj",
        "outputId": "b7d421e4-fc40-4465-a071-5c8bdce80432",
        "colab": {
          "base_uri": "https://localhost:8080/"
        }
      },
      "source": [
        "train_shapes = sorted(train_shapes)\n",
        "train_shapes[0], train_shapes[-1]"
      ],
      "execution_count": 29,
      "outputs": [
        {
          "output_type": "execute_result",
          "data": {
            "text/plain": [
              "((284, 120, 160, 3), (1120, 120, 160, 3))"
            ]
          },
          "metadata": {},
          "execution_count": 29
        }
      ]
    },
    {
      "cell_type": "code",
      "metadata": {
        "id": "suvHQ4LJiK11"
      },
      "source": [
        "test_shapes = []\n",
        "for i in range(len(test)):\n",
        "    videodata = skvideo.io.vread(test[i][0])\n",
        "    test_shapes.append(videodata.shape)"
      ],
      "execution_count": 30,
      "outputs": []
    },
    {
      "cell_type": "code",
      "metadata": {
        "id": "9onB2cVLiLg2",
        "outputId": "bc6880c1-b9b6-4a0b-b0cc-edf2eaf6ea95",
        "colab": {
          "base_uri": "https://localhost:8080/"
        }
      },
      "source": [
        "test_shapes = sorted(test_shapes)\n",
        "test_shapes[0], test_shapes[-1]"
      ],
      "execution_count": 31,
      "outputs": [
        {
          "output_type": "execute_result",
          "data": {
            "text/plain": [
              "((312, 120, 160, 3), (1065, 120, 160, 3))"
            ]
          },
          "metadata": {},
          "execution_count": 31
        }
      ]
    },
    {
      "cell_type": "markdown",
      "metadata": {
        "id": "xKecX592UCxv"
      },
      "source": [
        "## Визуализация кадра из видео"
      ]
    },
    {
      "cell_type": "code",
      "metadata": {
        "id": "SDRvDuY5VEKT",
        "outputId": "630aec55-f5a2-4f43-dc0f-31e970347dbc",
        "colab": {
          "base_uri": "https://localhost:8080/",
          "height": 303
        }
      },
      "source": [
        "videodata = skvideo.io.vread(train[0][0])\n",
        "videodata = videodata.astype(np.float32) / 255.\n",
        "print('videodata shape:', videodata.shape)\n",
        "plt.imshow(videodata[50, ...])"
      ],
      "execution_count": 47,
      "outputs": [
        {
          "output_type": "stream",
          "name": "stdout",
          "text": [
            "videodata shape: (390, 120, 160, 3)\n"
          ]
        },
        {
          "output_type": "execute_result",
          "data": {
            "text/plain": [
              "<matplotlib.image.AxesImage at 0x7f2ecc09e410>"
            ]
          },
          "metadata": {},
          "execution_count": 47
        },
        {
          "output_type": "display_data",
          "data": {
            "text/plain": [
              "<Figure size 432x288 with 1 Axes>"
            ],
            "image/png": "[encoded data removed]"
          },
          "metadata": {
            "needs_background": "light"
          }
        }
      ]
    },
    {
      "cell_type": "markdown",
      "metadata": {
        "id": "ZvDqIgDKUHfj"
      },
      "source": [
        "## Визуализация \"движения\""
      ]
    },
    {
      "cell_type": "code",
      "metadata": {
        "id": "n3y0fPuExC_q",
        "outputId": "f0c2cc5e-49dd-4ec6-9ebb-d46d2b281d38",
        "colab": {
          "base_uri": "https://localhost:8080/",
          "height": 303
        }
      },
      "source": [
        "motion = np.mean(videodata[1:, ...] - videodata[:-1, ...], axis=3, keepdims=True)\n",
        "print('motion shape:', motion.shape)\n",
        "plt.imshow(motion[50, ..., 0])"
      ],
      "execution_count": 33,
      "outputs": [
        {
          "output_type": "stream",
          "name": "stdout",
          "text": [
            "motion shape: (389, 120, 160, 1)\n"
          ]
        },
        {
          "output_type": "execute_result",
          "data": {
            "text/plain": [
              "<matplotlib.image.AxesImage at 0x7f2f48dffe10>"
            ]
          },
          "metadata": {},
          "execution_count": 33
        },
        {
          "output_type": "display_data",
          "data": {
            "text/plain": [
              "<Figure size 432x288 with 1 Axes>"
            ],
            "image/png": "[encoded data removed]"
          },
          "metadata": {
            "needs_background": "light"
          }
        }
      ]
    },
    {
      "cell_type": "markdown",
      "metadata": {
        "id": "99Ny75RhIAym"
      },
      "source": [
        "##Создание пайплайна данных"
      ]
    },
    {
      "cell_type": "code",
      "source": [
        "model = tf.keras.Sequential([\n",
        "    tf.keras.layers.Conv3D(32, (5, 5, 5), (1, 2, 2), padding='same', activation='relu'),\n",
        "    tf.keras.layers.MaxPool3D((1, 2, 2), padding='same'),\n",
        "    tf.keras.layers.Conv3D(64, (5, 5, 5), (1, 2, 2), padding='same', activation='relu'),\n",
        "    tf.keras.layers.MaxPool3D((1, 2, 2), padding='same'),\n",
        "    tf.keras.layers.Conv3D(64, (3, 3, 3), (1, 2, 2), padding='same', activation='relu'),\n",
        "    tf.keras.layers.MaxPool3D((1, 2, 2), padding='same'),\n",
        "    tf.keras.layers.Conv3D(64, (3, 3, 3), (1, 1, 1), padding='same', activation=None),\n",
        "    tf.keras.layers.GlobalAveragePooling3D(),\n",
        "    tf.keras.layers.Dense(64, activation='relu'),\n",
        "    tf.keras.layers.Dense(6, activation=None),\n",
        "])"
      ],
      "metadata": {
        "id": "KhejJbNu58Hm"
      },
      "execution_count": 48,
      "outputs": []
    },
    {
      "cell_type": "code",
      "source": [
        "inp = motion[None, ...]\n",
        "out = model(inp)\n",
        "\n",
        "print('Input shape:', inp.shape)\n",
        "print('Output shape:', out.shape)"
      ],
      "metadata": {
        "colab": {
          "base_uri": "https://localhost:8080/"
        },
        "id": "5VvICe4q58Kv",
        "outputId": "82a89cc6-16ab-4cbb-e6d0-faf65288f44f"
      },
      "execution_count": 49,
      "outputs": [
        {
          "output_type": "stream",
          "name": "stdout",
          "text": [
            "Input shape: (1, 389, 120, 160, 1)\n",
            "Output shape: (1, 6)\n"
          ]
        }
      ]
    },
    {
      "cell_type": "code",
      "source": [
        "NUM_EPOCHS = 10\n",
        "LEARNING_RATE = 0.001\n",
        "\n",
        "model.compile(\n",
        "    loss=tf.keras.losses.SparseCategoricalCrossentropy(from_logits=True), \n",
        "    optimizer=tf.keras.optimizers.Adam(LEARNING_RATE))\n",
        "\n",
        "writer = tf.summary.create_file_writer('logs/exp1')"
      ],
      "metadata": {
        "id": "NI0ILZxT58OH"
      },
      "execution_count": 50,
      "outputs": []
    },
    {
      "cell_type": "code",
      "source": [
        "global_step = 0\n",
        "for ep in range(NUM_EPOCHS):\n",
        "    for iter, (fpath, label) in enumerate(dataset):\n",
        "        videodata = skvideo.io.vread(fpath)\n",
        "        videodata = videodata.astype(np.float32) / 255.\n",
        "        motion = np.mean(videodata[1:, ...] - videodata[:-1, ...], axis=3, keepdims=True)\n",
        "        x = motion[None, ...]\n",
        "        y = np.array(label)[None, ...]\n",
        "\n",
        "        loss_value = model.train_on_batch(x, y)\n",
        "\n",
        "        if iter % 10 == 0:\n",
        "            print(f'[{ep}/{NUM_EPOCHS}][{iter}/{len(dataset)}] Loss = {loss_value}')\n",
        "\n",
        "            with writer.as_default():\n",
        "                tf.summary.scalar('loss', loss_value, global_step)\n",
        "\n",
        "        global_step += 1"
      ],
      "metadata": {
        "colab": {
          "base_uri": "https://localhost:8080/"
        },
        "id": "2V3OfknB58d8",
        "outputId": "b4bd5bcc-1c76-4d70-b823-bae6e7c7368a"
      },
      "execution_count": 51,
      "outputs": [
        {
          "output_type": "stream",
          "name": "stdout",
          "text": [
            "[0/10][0/200] Loss = 1.7948884963989258\n",
            "[0/10][10/200] Loss = 2.3858847618103027\n",
            "[0/10][20/200] Loss = 0.6691378355026245\n",
            "[0/10][30/200] Loss = 1.2288258075714111\n",
            "[0/10][40/200] Loss = 0.5246358513832092\n",
            "[0/10][50/200] Loss = 0.4076758921146393\n",
            "[0/10][60/200] Loss = 0.5657392144203186\n",
            "[0/10][70/200] Loss = 0.6599241495132446\n",
            "[0/10][80/200] Loss = 0.5182915329933167\n",
            "[0/10][90/200] Loss = 1.0657811164855957\n",
            "[0/10][100/200] Loss = 0.8860957622528076\n",
            "[0/10][110/200] Loss = 0.5881421566009521\n",
            "[0/10][120/200] Loss = 0.5373673439025879\n",
            "[0/10][130/200] Loss = 0.8219110369682312\n",
            "[0/10][140/200] Loss = 0.6935838460922241\n",
            "[0/10][150/200] Loss = 0.6650739908218384\n",
            "[0/10][160/200] Loss = 0.6590936779975891\n",
            "[0/10][170/200] Loss = 0.6590419411659241\n",
            "[0/10][180/200] Loss = 0.6213410496711731\n",
            "[0/10][190/200] Loss = 0.7215074300765991\n",
            "[1/10][0/200] Loss = 0.8735780119895935\n",
            "[1/10][10/200] Loss = 0.7746004462242126\n",
            "[1/10][20/200] Loss = 1.0375847816467285\n",
            "[1/10][30/200] Loss = 1.0568004846572876\n",
            "[1/10][40/200] Loss = 0.6714533567428589\n",
            "[1/10][50/200] Loss = 0.39867082238197327\n",
            "[1/10][60/200] Loss = 0.45392996072769165\n",
            "[1/10][70/200] Loss = 0.7314474582672119\n",
            "[1/10][80/200] Loss = 0.5745402574539185\n",
            "[1/10][90/200] Loss = 1.106560468673706\n",
            "[1/10][100/200] Loss = 0.8276689648628235\n",
            "[1/10][110/200] Loss = 0.5615863800048828\n",
            "[1/10][120/200] Loss = 0.5231009125709534\n",
            "[1/10][130/200] Loss = 0.5735478401184082\n",
            "[1/10][140/200] Loss = 0.7689083218574524\n",
            "[1/10][150/200] Loss = 0.7025359272956848\n",
            "[1/10][160/200] Loss = 0.7106950283050537\n",
            "[1/10][170/200] Loss = 0.6447568535804749\n",
            "[1/10][180/200] Loss = 0.6283975839614868\n",
            "[1/10][190/200] Loss = 0.7605155110359192\n",
            "[2/10][0/200] Loss = 0.8486899137496948\n",
            "[2/10][10/200] Loss = 0.7106093168258667\n",
            "[2/10][20/200] Loss = 0.8584920763969421\n",
            "[2/10][30/200] Loss = 1.017107605934143\n",
            "[2/10][40/200] Loss = 0.7369437217712402\n",
            "[2/10][50/200] Loss = 0.6346478462219238\n",
            "[2/10][60/200] Loss = 0.3955301344394684\n",
            "[2/10][70/200] Loss = 1.1181639432907104\n",
            "[2/10][80/200] Loss = 0.819918155670166\n",
            "[2/10][90/200] Loss = 0.7167389392852783\n",
            "[2/10][100/200] Loss = 0.948390007019043\n",
            "[2/10][110/200] Loss = 0.5421611070632935\n",
            "[2/10][120/200] Loss = 0.6230215430259705\n",
            "[2/10][130/200] Loss = 0.5974727869033813\n",
            "[2/10][140/200] Loss = 0.811958372592926\n",
            "[2/10][150/200] Loss = 0.667901337146759\n",
            "[2/10][160/200] Loss = 0.6962417364120483\n",
            "[2/10][170/200] Loss = 0.6531310081481934\n",
            "[2/10][180/200] Loss = 0.6308703422546387\n",
            "[2/10][190/200] Loss = 0.765447735786438\n",
            "[3/10][0/200] Loss = 0.8265475034713745\n",
            "[3/10][10/200] Loss = 0.6999043822288513\n",
            "[3/10][20/200] Loss = 0.820833146572113\n",
            "[3/10][30/200] Loss = 0.9626004099845886\n",
            "[3/10][40/200] Loss = 0.745175838470459\n",
            "[3/10][50/200] Loss = 0.6655049920082092\n",
            "[3/10][60/200] Loss = 0.4794270992279053\n",
            "[3/10][70/200] Loss = 1.116159439086914\n",
            "[3/10][80/200] Loss = 0.7815537452697754\n",
            "[3/10][90/200] Loss = 0.7875451445579529\n",
            "[3/10][100/200] Loss = 1.02445387840271\n",
            "[3/10][110/200] Loss = 0.5175095796585083\n",
            "[3/10][120/200] Loss = 0.6040868163108826\n",
            "[3/10][130/200] Loss = 0.6013458371162415\n",
            "[3/10][140/200] Loss = 0.7954363226890564\n",
            "[3/10][150/200] Loss = 0.6615954637527466\n",
            "[3/10][160/200] Loss = 0.6993148326873779\n",
            "[3/10][170/200] Loss = 0.6560494303703308\n",
            "[3/10][180/200] Loss = 0.6372091770172119\n",
            "[3/10][190/200] Loss = 0.7650895118713379\n",
            "[4/10][0/200] Loss = 0.8239772319793701\n",
            "[4/10][10/200] Loss = 0.6828499436378479\n",
            "[4/10][20/200] Loss = 0.7886017560958862\n",
            "[4/10][30/200] Loss = 0.900985598564148\n",
            "[4/10][40/200] Loss = 0.7779693603515625\n",
            "[4/10][50/200] Loss = 0.6999188661575317\n",
            "[4/10][60/200] Loss = 0.5400161743164062\n",
            "[4/10][70/200] Loss = 1.0410964488983154\n",
            "[4/10][80/200] Loss = 0.8879372477531433\n",
            "[4/10][90/200] Loss = 0.656585156917572\n",
            "[4/10][100/200] Loss = 0.7428171634674072\n",
            "[4/10][110/200] Loss = 0.576469898223877\n",
            "[4/10][120/200] Loss = 0.505935788154602\n",
            "[4/10][130/200] Loss = 0.5173842906951904\n",
            "[4/10][140/200] Loss = 0.8514739274978638\n",
            "[4/10][150/200] Loss = 0.6270396709442139\n",
            "[4/10][160/200] Loss = 0.6730136275291443\n",
            "[4/10][170/200] Loss = 0.6853281259536743\n",
            "[4/10][180/200] Loss = 0.6597530841827393\n",
            "[4/10][190/200] Loss = 0.7385527491569519\n",
            "[5/10][0/200] Loss = 0.7894628047943115\n",
            "[5/10][10/200] Loss = 0.6829211115837097\n",
            "[5/10][20/200] Loss = 0.9051015973091125\n",
            "[5/10][30/200] Loss = 0.9866060018539429\n",
            "[5/10][40/200] Loss = 0.6892247200012207\n",
            "[5/10][50/200] Loss = 0.6470175981521606\n",
            "[5/10][60/200] Loss = 0.523426353931427\n",
            "[5/10][70/200] Loss = 1.016093134880066\n",
            "[5/10][80/200] Loss = 0.8653198480606079\n",
            "[5/10][90/200] Loss = 0.6712267398834229\n",
            "[5/10][100/200] Loss = 0.93686842918396\n",
            "[5/10][110/200] Loss = 0.587582528591156\n",
            "[5/10][120/200] Loss = 0.6842271685600281\n",
            "[5/10][130/200] Loss = 0.6641769409179688\n",
            "[5/10][140/200] Loss = 0.7320205569267273\n",
            "[5/10][150/200] Loss = 0.5345800518989563\n",
            "[5/10][160/200] Loss = 0.7455214858055115\n",
            "[5/10][170/200] Loss = 0.574546754360199\n",
            "[5/10][180/200] Loss = 0.5321775674819946\n",
            "[5/10][190/200] Loss = 0.163519486784935\n",
            "[6/10][0/200] Loss = 2.199178457260132\n",
            "[6/10][10/200] Loss = 0.7564383745193481\n",
            "[6/10][20/200] Loss = 0.914976954460144\n",
            "[6/10][30/200] Loss = 0.6596469879150391\n",
            "[6/10][40/200] Loss = 0.7504974603652954\n",
            "[6/10][50/200] Loss = 0.46396636962890625\n",
            "[6/10][60/200] Loss = 0.43049076199531555\n",
            "[6/10][70/200] Loss = 0.15960489213466644\n",
            "[6/10][80/200] Loss = 0.13086248934268951\n",
            "[6/10][90/200] Loss = 0.5378884077072144\n",
            "[6/10][100/200] Loss = 0.391288697719574\n",
            "[6/10][110/200] Loss = 1.1202092170715332\n",
            "[6/10][120/200] Loss = 0.16496284306049347\n",
            "[6/10][130/200] Loss = 0.3029212951660156\n",
            "[6/10][140/200] Loss = 0.46814754605293274\n",
            "[6/10][150/200] Loss = 0.11561648547649384\n",
            "[6/10][160/200] Loss = 2.3142473697662354\n",
            "[6/10][170/200] Loss = 0.11405379325151443\n",
            "[6/10][180/200] Loss = 0.03182211518287659\n",
            "[6/10][190/200] Loss = 0.0005457103834487498\n",
            "[7/10][0/200] Loss = 0.028601400554180145\n",
            "[7/10][10/200] Loss = 0.22053882479667664\n",
            "[7/10][20/200] Loss = 0.34348222613334656\n",
            "[7/10][30/200] Loss = 0.25574791431427\n",
            "[7/10][40/200] Loss = 0.193921759724617\n",
            "[7/10][50/200] Loss = 0.04570670425891876\n",
            "[7/10][60/200] Loss = 0.13490507006645203\n",
            "[7/10][70/200] Loss = 0.011531603522598743\n",
            "[7/10][80/200] Loss = 0.07703514397144318\n",
            "[7/10][90/200] Loss = 0.15002718567848206\n",
            "[7/10][100/200] Loss = 0.03867227956652641\n",
            "[7/10][110/200] Loss = 0.017787344753742218\n",
            "[7/10][120/200] Loss = 0.05546429380774498\n",
            "[7/10][130/200] Loss = 0.0012771077454090118\n",
            "[7/10][140/200] Loss = 0.13516221940517426\n",
            "[7/10][150/200] Loss = 0.08070144057273865\n",
            "[7/10][160/200] Loss = 1.6438980102539062\n",
            "[7/10][170/200] Loss = 0.18767346441745758\n",
            "[7/10][180/200] Loss = 0.043825406581163406\n",
            "[7/10][190/200] Loss = 0.007477273233234882\n",
            "[8/10][0/200] Loss = 0.0432281531393528\n",
            "[8/10][10/200] Loss = 0.14846570789813995\n",
            "[8/10][20/200] Loss = 0.6902287602424622\n",
            "[8/10][30/200] Loss = 0.15718352794647217\n",
            "[8/10][40/200] Loss = 0.36937710642814636\n",
            "[8/10][50/200] Loss = 0.027333451434969902\n",
            "[8/10][60/200] Loss = 0.034486737102270126\n",
            "[8/10][70/200] Loss = 4.684815212385729e-05\n",
            "[8/10][80/200] Loss = 0.01986934058368206\n",
            "[8/10][90/200] Loss = 0.09881109744310379\n",
            "[8/10][100/200] Loss = 0.22166799008846283\n",
            "[8/10][110/200] Loss = 0.006078684702515602\n",
            "[8/10][120/200] Loss = 0.007590618450194597\n",
            "[8/10][130/200] Loss = 1.0728830375228426e-06\n",
            "[8/10][140/200] Loss = 0.2700090706348419\n",
            "[8/10][150/200] Loss = 0.0031829429790377617\n",
            "[8/10][160/200] Loss = 1.7434930801391602\n",
            "[8/10][170/200] Loss = 0.039773013442754745\n",
            "[8/10][180/200] Loss = 0.003979502711445093\n",
            "[8/10][190/200] Loss = 0.0009012927766889334\n",
            "[9/10][0/200] Loss = 0.019771520048379898\n",
            "[9/10][10/200] Loss = 0.1608700156211853\n",
            "[9/10][20/200] Loss = 0.19048836827278137\n",
            "[9/10][30/200] Loss = 0.04871257394552231\n",
            "[9/10][40/200] Loss = 0.05761343613266945\n",
            "[9/10][50/200] Loss = 0.004625573288649321\n",
            "[9/10][60/200] Loss = 0.03308553993701935\n",
            "[9/10][70/200] Loss = 0.0005164004978723824\n",
            "[9/10][80/200] Loss = 0.006460731849074364\n",
            "[9/10][90/200] Loss = 0.06078886613249779\n",
            "[9/10][100/200] Loss = 0.8607499599456787\n",
            "[9/10][110/200] Loss = 0.030762873589992523\n",
            "[9/10][120/200] Loss = 0.008408619090914726\n",
            "[9/10][130/200] Loss = 2.3841855067985307e-07\n",
            "[9/10][140/200] Loss = 0.09926068037748337\n",
            "[9/10][150/200] Loss = 0.004729631822556257\n",
            "[9/10][160/200] Loss = 0.8398268818855286\n",
            "[9/10][170/200] Loss = 0.030530378222465515\n",
            "[9/10][180/200] Loss = 0.0011232740944251418\n",
            "[9/10][190/200] Loss = 0.0036607650108635426\n"
          ]
        }
      ]
    },
    {
      "cell_type": "code",
      "source": [
        "%load_ext tensorboard\n",
        "%tensorboard --logdir logs"
      ],
      "metadata": {
        "colab": {
          "base_uri": "https://localhost:8080/",
          "height": 821
        },
        "id": "8MQeFjvW6QXt",
        "outputId": "26807353-39f6-4ae3-a2f1-7df418d8ca35"
      },
      "execution_count": 52,
      "outputs": [
        {
          "output_type": "display_data",
          "data": {
            "text/plain": [
              "<IPython.core.display.Javascript object>"
            ],
            "application/javascript": [
              "\n",
              "        (async () => {\n",
              "            const url = new URL(await google.colab.kernel.proxyPort(6006, {'cache': true}));\n",
              "            url.searchParams.set('tensorboardColab', 'true');\n",
              "            const iframe = document.createElement('iframe');\n",
              "            iframe.src = url;\n",
              "            iframe.setAttribute('width', '100%');\n",
              "            iframe.setAttribute('height', '800');\n",
              "            iframe.setAttribute('frameborder', 0);\n",
              "            document.body.appendChild(iframe);\n",
              "        })();\n",
              "    "
            ]
          },
          "metadata": {}
        }
      ]
    },
    {
      "cell_type": "markdown",
      "source": [
        "**Тестирование обученной модели**"
      ],
      "metadata": {
        "id": "Vl_HI2yd6KuA"
      }
    },
    {
      "cell_type": "code",
      "source": [
        "fpath, cls_true = random.choice(dataset)\n",
        "\n",
        "videodata = skvideo.io.vread(fpath)\n",
        "videodata = videodata.astype(np.float32) / 255.\n",
        "plt.imshow(videodata[30, ...])\n",
        "\n",
        "motion = np.mean(videodata[1:, ...] - videodata[:-1, ...], axis=3, keepdims=True)\n",
        "\n",
        "out = model(motion[None, ...])[0]\n",
        "cls_pred = np.argmax(out.numpy())\n",
        "\n",
        "print('True class:', classes[cls_true])\n",
        "print('Predicted class:', classes[cls_pred])"
      ],
      "metadata": {
        "colab": {
          "base_uri": "https://localhost:8080/",
          "height": 303
        },
        "id": "Qo6CNqSq6DUh",
        "outputId": "eec2d66b-614c-4d52-bd99-4f97e9c3c326"
      },
      "execution_count": 53,
      "outputs": [
        {
          "output_type": "stream",
          "name": "stdout",
          "text": [
            "True class: walking\n",
            "Predicted class: walking\n"
          ]
        },
        {
          "output_type": "display_data",
          "data": {
            "text/plain": [
              "<Figure size 432x288 with 1 Axes>"
            ],
            "image/png": "[encoded data removed]"
          },
          "metadata": {
            "needs_background": "light"
          }
        }
      ]
    },
    {
      "cell_type": "code",
      "metadata": {
        "id": "sSu4vcaCCpmo"
      },
      "source": [
        ""
      ],
      "execution_count": null,
      "outputs": []
    }
  ]
}